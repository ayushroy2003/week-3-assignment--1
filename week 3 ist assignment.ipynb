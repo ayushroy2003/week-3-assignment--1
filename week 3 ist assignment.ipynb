{
 "cells": [
  {
   "cell_type": "markdown",
   "id": "24beef42-959f-4150-8e39-fbc880fbc537",
   "metadata": {},
   "source": [
    "### Q1. Which keyword is used to create a function? Create a function to return a list of odd numbers in the range of 1 to 25.\n",
    "ANS - def keyword is used to create a function."
   ]
  },
  {
   "cell_type": "code",
   "execution_count": 2,
   "id": "f1dcf2ad-08fc-41bf-ab53-6634b47e0218",
   "metadata": {},
   "outputs": [],
   "source": [
    "def get_odd_num():\n",
    "    odd_no = []\n",
    "    for i in range(1,26):\n",
    "        if i % 2 != 0 :\n",
    "            odd_no.append(i)\n",
    "    return odd_no\n",
    "            "
   ]
  },
  {
   "cell_type": "code",
   "execution_count": 4,
   "id": "17cc3b1e-3a54-489e-90a6-e2d22b4e64c4",
   "metadata": {},
   "outputs": [],
   "source": [
    "odd_no_list = get_odd_num()"
   ]
  },
  {
   "cell_type": "code",
   "execution_count": 5,
   "id": "3d401156-3f04-4314-9077-61700bb30dd4",
   "metadata": {},
   "outputs": [
    {
     "data": {
      "text/plain": [
       "[1, 3, 5, 7, 9, 11, 13, 15, 17, 19, 21, 23, 25]"
      ]
     },
     "execution_count": 5,
     "metadata": {},
     "output_type": "execute_result"
    }
   ],
   "source": [
    "odd_no_list"
   ]
  },
  {
   "cell_type": "markdown",
   "id": "b24dc5eb-64ce-4536-b1fe-7ecbf7700784",
   "metadata": {},
   "source": [
    "Q2. Why *args and **kwargs is used in some functions? Create a function each for *args and **kwargs\n",
    "to demonstrate their use.\n",
    "\n",
    "ANSWER- *args is used because it allow multiple numbers of argument we can pass in function and This is useful when you don't know how many arguments the function will receive or when you want to create a more general-purpose function.\n",
    "\n",
    "**kwargs enables you to pass any number of keyword arguments to the function, and they will be collected into a dictionary inside the function. This is particularly useful when you want to provide optional parameters to a function or when you want to pass a set of key-value pairs without knowing all the possible keys in advance.\n",
    "\n",
    "USE OF *args and **kwargs"
   ]
  },
  {
   "cell_type": "code",
   "execution_count": 1,
   "id": "8523fae7-dfae-46f0-b3b6-47987292c727",
   "metadata": {},
   "outputs": [],
   "source": [
    "###uses of *args\n",
    "\n",
    "def test1(*args):\n",
    "    return args"
   ]
  },
  {
   "cell_type": "code",
   "execution_count": 2,
   "id": "ad803092-94db-4b40-a9fa-a4ae02f1f87c",
   "metadata": {},
   "outputs": [
    {
     "data": {
      "text/plain": [
       "(55, 55, 5, 5, 59, 9)"
      ]
     },
     "execution_count": 2,
     "metadata": {},
     "output_type": "execute_result"
    }
   ],
   "source": [
    "test1(55,55,5,5,59,9,)"
   ]
  },
  {
   "cell_type": "code",
   "execution_count": 3,
   "id": "2cdee2b1-4f37-4107-97b1-85598c3e9271",
   "metadata": {},
   "outputs": [
    {
     "data": {
      "text/plain": [
       "('ayush', 'kumar', 8646, 649)"
      ]
     },
     "execution_count": 3,
     "metadata": {},
     "output_type": "execute_result"
    }
   ],
   "source": [
    "test1('ayush','kumar',8646,649)"
   ]
  },
  {
   "cell_type": "code",
   "execution_count": 4,
   "id": "11f50cb5-ed18-4740-a164-b62ab3febb85",
   "metadata": {},
   "outputs": [],
   "source": [
    "### uses of **kwargs\n",
    "\n",
    "def test2(**kwargs):\n",
    "    return kwargs"
   ]
  },
  {
   "cell_type": "code",
   "execution_count": 9,
   "id": "409e1d1b-7d78-4f73-9241-aa074c3c7b4a",
   "metadata": {},
   "outputs": [
    {
     "data": {
      "text/plain": [
       "{'a': ['pwskills', 2342, 253], 'b': ['ayush'], 'c': ['sweta']}"
      ]
     },
     "execution_count": 9,
     "metadata": {},
     "output_type": "execute_result"
    }
   ],
   "source": [
    "test2(a = ['pwskills',2342,253], b = ['ayush'], c = ['sweta'])"
   ]
  },
  {
   "cell_type": "markdown",
   "id": "d365d8a5-5b47-41f0-bc53-a8ae70e48df8",
   "metadata": {},
   "source": [
    "Q3- What is an iterator in python? Name the method used to initialise the iterator object and the method\n",
    "used for iteration. Use these methods to print the first five elements of the given list [2, 4, 6, 8, 10, 12, 14,\n",
    "16, 18, 20].\n",
    "\n",
    "ANSWER- \n",
    " An iterator is an object that allows you to traverse through elements in a sequence, such as a list, tuple, or any other iterable. Iterators are used to access elements one at a time without needing to load the entire sequence into memory. They are typically used in for loops and provide a method for fetching the next element until there are no more elements left to iterate over.\n",
    " \n",
    " The two main methods associated with iterators are:\n",
    "\n",
    "Initialization Method: The iter() function is used to initialize an iterator object from an iterable.\n",
    "\n",
    "Iteration Method: The next() function is used to fetch the next element from the iterator. When there are no more elements left, it raises a StopIteration exception.\n",
    "\n",
    "we can use these methods to print the first five elements of the given list [2, 4, 6, 8, 10, 12, 14, 16, 18, 20]"
   ]
  },
  {
   "cell_type": "code",
   "execution_count": 10,
   "id": "cf0cefa2-10be-4293-9a8e-6f13f4e1c70d",
   "metadata": {},
   "outputs": [],
   "source": [
    "l = [2, 4, 6, 8, 10, 12, 14, 16, 18, 20]"
   ]
  },
  {
   "cell_type": "code",
   "execution_count": 11,
   "id": "90dd533b-87a3-4ce7-8a29-f91b2131a7ab",
   "metadata": {},
   "outputs": [
    {
     "name": "stdout",
     "output_type": "stream",
     "text": [
      "2\n",
      "4\n",
      "6\n",
      "8\n",
      "10\n"
     ]
    }
   ],
   "source": [
    "iterator = iter(l)\n",
    "for i in range(5):\n",
    "    element = next(iterator)\n",
    "    print(element)\n",
    "    "
   ]
  },
  {
   "cell_type": "markdown",
   "id": "09cdc488-4fca-4ad1-8afa-b4a1e402c748",
   "metadata": {},
   "source": [
    "Q4. What is a generator function in python? Why yield keyword is used? Give an example of a generator\n",
    "function.\n",
    "\n",
    "ANSWER-  generator function in Python is a special type of function that allows you to create an iterator using the yield keyword. It generates values on-the-fly and produces them one at a time, avoiding the need to store all the values in memory at once. This is particularly useful for generating large sequences of data that you don't want to load entirely into memory.\n",
    "\n",
    "The yield keyword is used in a generator function to indicate that the function should produce a value to be returned, but it doesn't terminate the function's execution. The function's state is preserved, allowing it to resume from where it left off when the next value is requested.\n",
    "\n",
    "EXAMPLE"
   ]
  },
  {
   "cell_type": "code",
   "execution_count": 12,
   "id": "2110dd1b-c431-47b8-951c-5b5deda60d7c",
   "metadata": {},
   "outputs": [],
   "source": [
    "def test_gen(n):\n",
    "    a,b = 0,1\n",
    "    for i in range(n):\n",
    "        yield a\n",
    "        a,b = b , a+b"
   ]
  },
  {
   "cell_type": "code",
   "execution_count": 13,
   "id": "93b8e0d6-a26a-44f3-9636-3912dd81ec43",
   "metadata": {},
   "outputs": [
    {
     "name": "stdout",
     "output_type": "stream",
     "text": [
      "0\n",
      "1\n",
      "1\n",
      "2\n",
      "3\n"
     ]
    }
   ],
   "source": [
    "for i in test_gen(5):\n",
    "    print(i)"
   ]
  },
  {
   "cell_type": "markdown",
   "id": "e433da93-b919-49c5-a0d0-63cdf5db92ec",
   "metadata": {},
   "source": [
    "Q5. Create a generator function for prime numbers less than 1000. Use the next() method to print the\n",
    "first 20 prime numbers.\n",
    "\n",
    "answer -"
   ]
  },
  {
   "cell_type": "code",
   "execution_count": 8,
   "id": "5eee6d7d-f6ef-4850-ac25-89bcdabf1d57",
   "metadata": {},
   "outputs": [
    {
     "name": "stdout",
     "output_type": "stream",
     "text": [
      "[2, 3, 5, 7, 11, 13, 17, 19, 23, 29, 31, 37, 41, 43, 47, 53, 59, 61, 67, 71]\n"
     ]
    }
   ],
   "source": [
    "def is_prime(number):\n",
    "    if number <= 1:\n",
    "        return False\n",
    "    for i in range(2, int(number ** 0.5) + 1):\n",
    "        if number % i == 0:\n",
    "            return False\n",
    "    return True\n",
    "\n",
    "def prime_generator(limit):\n",
    "    num = 2\n",
    "    while True:\n",
    "        if is_prime(num):\n",
    "            yield num\n",
    "        num += 1\n",
    "\n",
    "prime_gen = prime_generator(20)\n",
    "print([next(prime_gen) for _ in range(20)])\n",
    "\n"
   ]
  },
  {
   "cell_type": "markdown",
   "id": "5378d5cf-5991-426d-bc10-0416f425307a",
   "metadata": {},
   "source": [
    "Q6. Write a python program to print the first 10 Fibonacci numbers using a while loop.\n",
    "\n",
    "ANSWER-\""
   ]
  },
  {
   "cell_type": "code",
   "execution_count": 9,
   "id": "fffe7822-ef4f-4c16-bfee-c3302f8355d3",
   "metadata": {},
   "outputs": [],
   "source": [
    "def test_fibonacci():\n",
    "    a,b = 0 , 1\n",
    "    while True:\n",
    "        yield a\n",
    "        a,b = b,a+b\n",
    "        \n",
    "        "
   ]
  },
  {
   "cell_type": "code",
   "execution_count": 11,
   "id": "98299986-4056-49ac-9b4f-198b3e5b9456",
   "metadata": {},
   "outputs": [],
   "source": [
    "fib = test_fibonacci()"
   ]
  },
  {
   "cell_type": "code",
   "execution_count": 14,
   "id": "f3534737-bf5b-4ba7-bd95-031c8055750f",
   "metadata": {},
   "outputs": [
    {
     "name": "stdout",
     "output_type": "stream",
     "text": [
      "0\n",
      "1\n",
      "1\n",
      "2\n",
      "3\n",
      "5\n",
      "8\n",
      "13\n",
      "21\n",
      "34\n"
     ]
    }
   ],
   "source": [
    "for i in range(10):\n",
    "    print(next(fib))"
   ]
  },
  {
   "cell_type": "markdown",
   "id": "38f4b8db-a87f-487d-a865-f2c0ff89b045",
   "metadata": {},
   "source": [
    "Q7. Write a List Comprehension to iterate through the given string: ‘pwskills’.\n",
    "Expected output: ['p', 'w', 's', 'k', 'i', 'l', 'l', 's']\n",
    "\n",
    "answer"
   ]
  },
  {
   "cell_type": "code",
   "execution_count": 19,
   "id": "56c1037b-b48a-4be3-b0f5-b28a2203fa14",
   "metadata": {},
   "outputs": [],
   "source": [
    "input_string = 'pwskills'\n",
    "output_list = [ x  for x in input_string]\n",
    "\n"
   ]
  },
  {
   "cell_type": "code",
   "execution_count": 20,
   "id": "7fd673f1-cfd1-4e20-a3c6-6572ca81ec83",
   "metadata": {},
   "outputs": [
    {
     "name": "stdout",
     "output_type": "stream",
     "text": [
      "['p', 'w', 's', 'k', 'i', 'l', 'l', 's']\n"
     ]
    }
   ],
   "source": [
    "print(output_list)"
   ]
  },
  {
   "cell_type": "markdown",
   "id": "2808f134-7745-43a6-a020-3680a584b872",
   "metadata": {},
   "source": [
    "Q8. Write a python program to check whether a given number is Palindrome or not using a while loop.\n",
    "\n",
    "ans - "
   ]
  },
  {
   "cell_type": "code",
   "execution_count": 21,
   "id": "4db20e91-bf2f-413a-a49a-8cebdcaccc6e",
   "metadata": {},
   "outputs": [
    {
     "name": "stdin",
     "output_type": "stream",
     "text": [
      "Enter a number:  123321\n"
     ]
    },
    {
     "name": "stdout",
     "output_type": "stream",
     "text": [
      "123321 is a palindrome.\n"
     ]
    }
   ],
   "source": [
    "def is_palindrome(number):\n",
    "    original_number = number  # Save the original number for comparison later\n",
    "    reversed_number = 0       # Initialize a variable to store the reversed number\n",
    "\n",
    "    while number > 0:         # Keep looping as long as there are digits left in the number\n",
    "        digit = number % 10   # Get the last digit of the number\n",
    "        reversed_number = reversed_number * 10 + digit  # Build the reversed number\n",
    "        number //= 10         # Remove the last digit from the number\n",
    "\n",
    "    return original_number == reversed_number  # Compare original and reversed numbers\n",
    "\n",
    "# Get a number from the user\n",
    "num = int(input(\"Enter a number: \"))\n",
    "\n",
    "# Check if the number is a palindrome or not\n",
    "if is_palindrome(num):\n",
    "    print(f\"{num} is a palindrome.\")\n",
    "else:\n",
    "    print(f\"{num} is not a palindrome.\")\n"
   ]
  },
  {
   "cell_type": "markdown",
   "id": "db0ee6c8-0c57-4318-a05c-ad4fcb858d27",
   "metadata": {},
   "source": [
    "Q9 \n",
    "Write a code to print odd numbers from 1 to 100 using list comprehension.\n",
    "Note: Use a list comprehension to create a list from 1 to 100 and use another List comprehension to filter\n",
    "out odd numbers.\n",
    "\n",
    "\n",
    "ans - "
   ]
  },
  {
   "cell_type": "code",
   "execution_count": 22,
   "id": "a391a58d-64aa-4f32-9fb2-8d5a8e2009c3",
   "metadata": {},
   "outputs": [],
   "source": [
    "no = [num for num in range(1,101)]"
   ]
  },
  {
   "cell_type": "code",
   "execution_count": 32,
   "id": "ae4217b5-3da8-487c-be96-963ac2185b13",
   "metadata": {},
   "outputs": [],
   "source": [
    "odd_no = [num for num in no if num %2!= 0]"
   ]
  },
  {
   "cell_type": "code",
   "execution_count": 26,
   "id": "371a8486-ca55-4d71-a1a7-edc6537961c4",
   "metadata": {},
   "outputs": [
    {
     "name": "stdout",
     "output_type": "stream",
     "text": [
      "[1, 3, 5, 7, 9, 11, 13, 15, 17, 19, 21, 23, 25, 27, 29, 31, 33, 35, 37, 39, 41, 43, 45, 47, 49, 51, 53, 55, 57, 59, 61, 63, 65, 67, 69, 71, 73, 75, 77, 79, 81, 83, 85, 87, 89, 91, 93, 95, 97, 99]\n"
     ]
    }
   ],
   "source": [
    "print(odd_no)"
   ]
  },
  {
   "cell_type": "code",
   "execution_count": null,
   "id": "98095df8-4e6f-4843-aa44-a6947f334c5c",
   "metadata": {},
   "outputs": [],
   "source": []
  }
 ],
 "metadata": {
  "kernelspec": {
   "display_name": "Python 3 (ipykernel)",
   "language": "python",
   "name": "python3"
  },
  "language_info": {
   "codemirror_mode": {
    "name": "ipython",
    "version": 3
   },
   "file_extension": ".py",
   "mimetype": "text/x-python",
   "name": "python",
   "nbconvert_exporter": "python",
   "pygments_lexer": "ipython3",
   "version": "3.10.8"
  }
 },
 "nbformat": 4,
 "nbformat_minor": 5
}
